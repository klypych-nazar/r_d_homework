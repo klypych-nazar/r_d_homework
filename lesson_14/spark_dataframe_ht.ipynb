{
 "cells": [
  {
   "cell_type": "code",
   "execution_count": null,
   "metadata": {
    "collapsed": true
   },
   "outputs": [],
   "source": [
    "from pyspark.sql import SparkSession, functions as F, types as T"
   ]
  },
  {
   "cell_type": "code",
   "execution_count": null,
   "metadata": {
    "collapsed": false,
    "pycharm": {
     "is_executing": true
    }
   },
   "outputs": [],
   "source": [
    "spark = SparkSession.builder.master('local[*]').getOrCreate()"
   ]
  },
  {
   "cell_type": "code",
   "execution_count": null,
   "metadata": {
    "collapsed": false
   },
   "outputs": [],
   "source": [
    "print(spark.version)"
   ]
  },
  {
   "cell_type": "code",
   "execution_count": null,
   "metadata": {
    "collapsed": false
   },
   "outputs": [],
   "source": [
    "actor_df = spark.read.csv('./data/actor.csv', header=True, inferSchema=True)\n",
    "address_df = spark.read.csv('./data/address.csv', header=True, inferSchema=True)\n",
    "category_df = spark.read.csv('./data/category.csv', header=True, inferSchema=True)\n",
    "city_df = spark.read.csv('./data/city.csv', header=True, inferSchema=True)\n",
    "country_df = spark.read.csv('./data/country.csv', header=True, inferSchema=True)\n",
    "customer_df = spark.read.csv('./data/customer.csv', header=True, inferSchema=True)\n",
    "film_df = spark.read.csv('./data/film.csv', header=True, inferSchema=True)\n",
    "film_actor_df = spark.read.csv('./data/film_actor.csv', header=True, inferSchema=True)\n",
    "film_category_df = spark.read.csv('./data/film_category.csv', header=True, inferSchema=True)\n",
    "inventory_df = spark.read.csv('./data/inventory.csv', header=True, inferSchema=True)\n",
    "language_df = spark.read.csv('./data/language.csv', header=True, inferSchema=True)\n",
    "payment_df = spark.read.csv('./data/payment.csv', header=True, inferSchema=True)\n",
    "rental_df = spark.read.csv('./data/rental.csv', header=True, inferSchema=True)\n",
    "staff_df = spark.read.csv('./data/staff.csv', header=True, inferSchema=True)\n",
    "store_df = spark.read.csv('./data/store.csv', header=True, inferSchema=True)"
   ]
  },
  {
   "cell_type": "markdown",
   "metadata": {
    "collapsed": false
   },
   "source": [
    "# Домашнє завдання на тему Spark SQL\n",
    "\n",
    "Задачі з домашнього завдання на SQL потрібно розвʼязати за допомогою Spark SQL DataFrame API.\n",
    "\n",
    "- Дампи таблиць знаходяться в папці `data`. Датафрейми таблиць вже створені в клітинці вище.\n",
    "- Можете створювати стільки нових клітинок, скільки вам необхідно.\n",
    "- Розвʼязок кожної задачі має бути відображений в самому файлі (використати метод `.show()`)\n",
    "- код має бути оформлений у відповідності із одним із стилем, показаним лектором на занятті 13.\n",
    "\n",
    "**Увага!**\n",
    "Використовувати мову запитів SQL безпосередньо забороняється, потрібно використовувати виключно DataFrame API!\n"
   ]
  },
  {
   "cell_type": "markdown",
   "metadata": {
    "collapsed": false
   },
   "source": [
    "1.\n",
    "Вивести кількість фільмів в кожній категорії.\n",
    "Результат відсортувати за спаданням."
   ]
  },
  {
   "cell_type": "code",
   "execution_count": null,
   "metadata": {
    "collapsed": false
   },
   "outputs": [],
   "source": [
    "# broadcast the small df to avoid shuffle\n",
    "broadcast_category_df = F.broadcast(category_df)\n",
    "\n",
    "nr_films_by_category = (\n",
    "    film_category_df.join(broadcast_category_df, on='category_id', how='inner')\n",
    "    .groupBy('name')\n",
    "    .agg(F.count('film_id').alias('nr_films'))\n",
    "    .orderBy(F.col('nr_films').desc())\n",
    "    .select(F.col('name').alias('category_name'), 'nr_films')\n",
    ")\n",
    "\n",
    "nr_films_by_category.show()"
   ]
  },
  {
   "cell_type": "markdown",
   "metadata": {
    "collapsed": false
   },
   "source": [
    "2.\n",
    "Вивести 10 акторів, чиї фільми брали на прокат найбільше.\n",
    "Результат відсортувати за спаданням."
   ]
  },
  {
   "cell_type": "code",
   "execution_count": null,
   "metadata": {
    "collapsed": false
   },
   "outputs": [],
   "source": [
    "# column pruning\n",
    "rental_df_pruned = rental_df.select('inventory_id')\n",
    "inventory_df_pruned = inventory_df.select('inventory_id', 'film_id')\n",
    "film_df_pruned = film_df.select('film_id', 'title')\n",
    "actor_df_pruned = actor_df.select('actor_id', 'first_name', 'last_name')\n",
    "film_actor_df_pruned = film_actor_df.select('actor_id', 'film_id')\n",
    "\n",
    "# calculate rental_count\n",
    "rental_count_df = (\n",
    "    rental_df_pruned.join(inventory_df_pruned, on='inventory_id')\n",
    "    .join(film_df_pruned, on='film_id')\n",
    "    .groupBy('film_id', 'title')\n",
    "    .agg(F.count('*').alias('rents_count'))\n",
    "    .orderBy(F.col('rents_count').desc())\n",
    ")\n",
    "\n",
    "# calculate total number of film rentals per actor\n",
    "result_df = (\n",
    "    actor_df.join(film_actor_df_pruned, on='actor_id')\n",
    "    .join(film_df_pruned, on='film_id')\n",
    "    .join(rental_count_df, on='film_id')\n",
    "    .groupBy('actor_id', F.concat(actor_df.first_name, F.lit(' '), actor_df.last_name).alias('actor_name'))\n",
    "    .agg(F.sum('rents_count').alias('total_rents'))\n",
    "    .orderBy(F.col('total_rents').desc())\n",
    "    .limit(10)\n",
    ")\n",
    "\n",
    "result_df.show()"
   ]
  },
  {
   "cell_type": "markdown",
   "metadata": {
    "collapsed": false
   },
   "source": [
    "3.\n",
    "Вивести категорія фільмів, на яку було витрачено найбільше грошей\n",
    "в прокаті"
   ]
  },
  {
   "cell_type": "code",
   "execution_count": null,
   "metadata": {
    "collapsed": false
   },
   "outputs": [],
   "source": [
    "# broadcast the small df to avoid shuffle\n",
    "broadcast_category_df = F.broadcast(category_df)\n",
    "\n",
    "# column pruning to minimize the size of joined df\n",
    "payment_df_pruned = payment_df.select('payment_id', 'amount', 'rental_id')\n",
    "rental_df_pruned = rental_df.select('rental_id', 'inventory_id')\n",
    "inventory_df_pruned = inventory_df.select('inventory_id', 'film_id')\n",
    "film_category_df_pruned = film_category_df.select('category_id', 'film_id')\n",
    "\n",
    "most_spent_film_category = (\n",
    "    payment_df_pruned.join(rental_df_pruned, on='rental_id')\n",
    "    .join(inventory_df_pruned, on='inventory_id')\n",
    "    .join(film_category_df_pruned, on='film_id')\n",
    "    .join(broadcast_category_df, on='category_id')\n",
    "    .groupby('name')\n",
    "    .agg(F.sum('amount').alias('total_revenue'))\n",
    "    .orderBy(F.col('total_revenue').desc())\n",
    "    .limit(1)\n",
    ")\n",
    "\n",
    "most_spent_film_category.show()"
   ]
  },
  {
   "cell_type": "markdown",
   "metadata": {
    "collapsed": false
   },
   "source": [
    "4.\n",
    "Вивести назви фільмів, яких не має в inventory."
   ]
  },
  {
   "cell_type": "code",
   "execution_count": null,
   "metadata": {
    "collapsed": false
   },
   "outputs": [],
   "source": [
    "# Select film IDs from the film df\n",
    "film_ids_df = film_df.select('film_id')\n",
    "\n",
    "# Select film IDs from the inventory df\n",
    "inventory_film_ids_df = inventory_df.select('film_id')\n",
    "\n",
    "# Perform the EXCEPT operation to get films not in inventory\n",
    "films_not_in_inventory_df = film_ids_df.subtract(inventory_film_ids_df)\n",
    "\n",
    "# Join the result with the film df to get the film titles\n",
    "missing_inventory_films_df = films_not_in_inventory_df.join(film_df, on='film_id').select('title')\n",
    "\n",
    "# Show the result\n",
    "missing_inventory_films_df.show()"
   ]
  },
  {
   "cell_type": "markdown",
   "metadata": {
    "collapsed": false
   },
   "source": [
    "5.\n",
    "Вивести топ 3 актори, які найбільше зʼявлялись в категорії фільмів “Children”"
   ]
  },
  {
   "cell_type": "code",
   "execution_count": 28,
   "metadata": {
    "collapsed": false,
    "pycharm": {
     "is_executing": true
    },
    "ExecuteTime": {
     "end_time": "2024-05-30T09:27:09.712280Z",
     "start_time": "2024-05-30T09:27:09.495398Z"
    }
   },
   "outputs": [
    {
     "name": "stdout",
     "output_type": "stream",
     "text": [
      "+------------+--------+\n",
      "|  actor_name|nr_films|\n",
      "+------------+--------+\n",
      "|HELEN VOIGHT|       7|\n",
      "|  RALPH CRUZ|       5|\n",
      "| WHOOPI HURT|       5|\n",
      "+------------+--------+\n"
     ]
    }
   ],
   "source": [
    "# Create the children_films DataFrame\n",
    "children_films_df = film_category_df.filter(film_category_df.category_id == 3).select('film_id')\n",
    "\n",
    "# Determine top 3 actors by the number of children's films they've appeared in\n",
    "top_3_children_actors_df = (\n",
    "    film_actor_df.join(children_films_df, on='film_id')\n",
    "    .groupBy('actor_id')\n",
    "    .agg(F.count('actor_id').alias('nr_films'))\n",
    "    .orderBy(F.col('nr_films').desc())\n",
    "    .limit(3)\n",
    ")\n",
    "\n",
    "# Fetch actor names and their number of children's films\n",
    "most_popular_children_actors_df = (\n",
    "    top_3_children_actors_df.join(actor_df, on='actor_id')\n",
    "    .select(F.concat(actor_df.first_name, F.lit(' '), actor_df.last_name).alias('actor_name'), 'nr_films')\n",
    ")\n",
    "\n",
    "most_popular_children_actors_df.show()"
   ]
  },
  {
   "cell_type": "markdown",
   "metadata": {
    "collapsed": false
   },
   "source": [
    "Stop Spark session:"
   ]
  },
  {
   "cell_type": "code",
   "execution_count": 29,
   "metadata": {
    "collapsed": false,
    "ExecuteTime": {
     "end_time": "2024-05-30T09:27:12.585916Z",
     "start_time": "2024-05-30T09:27:12.086593Z"
    }
   },
   "outputs": [],
   "source": [
    "spark.stop()"
   ]
  },
  {
   "cell_type": "code",
   "outputs": [],
   "source": [],
   "metadata": {
    "collapsed": false
   }
  }
 ],
 "metadata": {
  "kernelspec": {
   "display_name": "Python 3",
   "language": "python",
   "name": "python3"
  },
  "language_info": {
   "codemirror_mode": {
    "name": "ipython",
    "version": 2
   },
   "file_extension": ".py",
   "mimetype": "text/x-python",
   "name": "python",
   "nbconvert_exporter": "python",
   "pygments_lexer": "ipython2",
   "version": "2.7.6"
  }
 },
 "nbformat": 4,
 "nbformat_minor": 0
}
